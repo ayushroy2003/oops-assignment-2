{
 "cells": [
  {
   "cell_type": "markdown",
   "id": "9cc1220d-b5d2-4eb1-ab28-9bcbf0fa6802",
   "metadata": {},
   "source": [
    "Q1. What is Abstraction in OOps? Explain with an example.\n",
    "\n",
    "Ans - \n",
    "\n",
    "Abstraction is one of the four fundamental principles of object-oriented programming (OOP). It is the process of simplifying complex reality by modeling classes based on the essential properties and behaviors of objects, while ignoring or hiding irrelevant details. Abstraction involves defining a clear and abstract interface for a class, hiding the internal implementation details, and focusing on what an object does rather than how it does it. It helps in managing complexity and allows you to work with higher-level concepts.\n",
    "\n",
    "Example -"
   ]
  },
  {
   "cell_type": "code",
   "execution_count": 11,
   "id": "1820c50e-3ae3-4ef0-8a1d-ad95d17a1b06",
   "metadata": {},
   "outputs": [],
   "source": [
    "import abc\n",
    "class pwskills:\n",
    "    \n",
    "    @abc.abstractmethod\n",
    "    def students_detials(self):\n",
    "        pass\n",
    "    \n",
    "    @abc.abstractmethod\n",
    "    def student_assignemnt(self):\n",
    "        pass\n",
    "    \n",
    "    @abc.abstractmethod\n",
    "    def student_marks(self):\n",
    "        pass"
   ]
  },
  {
   "cell_type": "code",
   "execution_count": 7,
   "id": "d68e8969-b996-4212-8dc6-99edb7440eb3",
   "metadata": {},
   "outputs": [],
   "source": [
    "class student_detils(pwskills):\n",
    "    \n",
    "    def students_detials(self):\n",
    "        return \"this is a meth for taking students details\"\n",
    "    \n",
    "    def student_assignemnt(self):\n",
    "        return \"this is a meth for assing details for a perticualt student\""
   ]
  },
  {
   "cell_type": "code",
   "execution_count": 8,
   "id": "8751322f-189d-445d-8472-ad5eb8b30052",
   "metadata": {},
   "outputs": [],
   "source": [
    "class data_science_maters(pwskills):\n",
    "    \n",
    "    def students_detials(self):\n",
    "        return \"this will return a student details for data science masters \"\n",
    "    \n",
    "    def student_assignemnt(self):\n",
    "        return \"this will give you a studnt assignment detaild for data science masters \""
   ]
  },
  {
   "cell_type": "code",
   "execution_count": 9,
   "id": "5d394b5d-b488-4610-8f13-cdd2596268fe",
   "metadata": {},
   "outputs": [
    {
     "data": {
      "text/plain": [
       "'this will return a student details for data science masters '"
      ]
     },
     "execution_count": 9,
     "metadata": {},
     "output_type": "execute_result"
    }
   ],
   "source": [
    "dsm = data_science_maters()\n",
    "dsm.students_detials()"
   ]
  },
  {
   "cell_type": "code",
   "execution_count": 10,
   "id": "c1c8425d-a044-4cf4-9939-40a976af9dee",
   "metadata": {},
   "outputs": [
    {
     "data": {
      "text/plain": [
       "'this is a meth for taking students details'"
      ]
     },
     "execution_count": 10,
     "metadata": {},
     "output_type": "execute_result"
    }
   ],
   "source": [
    "sd= student_detils()\n",
    "sd.students_detials()"
   ]
  },
  {
   "cell_type": "markdown",
   "id": "ea50db95-9fb1-485d-81f4-cdc21076f0c7",
   "metadata": {},
   "source": [
    "Q2. Differentiate between Abstraction and Encapsulation. Explain with an example.\n",
    "\n",
    "\n",
    "ANS -\n",
    "\n",
    "abstraction focuses on simplifying complex concepts by defining abstract classes and methods, while encapsulation focuses on bundling data and methods into a class and controlling access to the data using getter and setter methods. Both concepts are important for achieving code modularity and maintainability in object-oriented programming.\n",
    "\n",
    "\n",
    "both example are given below\n"
   ]
  },
  {
   "cell_type": "code",
   "execution_count": 18,
   "id": "1c90d272-4dd8-4791-9fc2-c12847c81a3e",
   "metadata": {},
   "outputs": [],
   "source": [
    "#Abstraction_example\n",
    "\n",
    "import abc \n",
    "class shape:\n",
    "    @abc.abstractmethod\n",
    "    def calculate_area(self):\n",
    "        pass\n",
    "    \n",
    "class Circle(shape):\n",
    "    def __init__(self,radius):\n",
    "        self.radius = radius\n",
    "        \n",
    "    def calculate_area(self):\n",
    "        return 3.14 * self.radius * self.radius\n",
    "    \n",
    "class Rectangle(shape):\n",
    "    def __init__(self, length ,width):\n",
    "        self.length = length\n",
    "        self.width = width\n",
    "        \n",
    "    def calculate_area(self):\n",
    "        return self.length * self.width\n",
    "    \n",
    "        \n",
    "    \n",
    "    "
   ]
  },
  {
   "cell_type": "code",
   "execution_count": 21,
   "id": "cda0e80c-8285-4a05-b440-66488f28233a",
   "metadata": {},
   "outputs": [],
   "source": [
    "big_circle = Circle(55)"
   ]
  },
  {
   "cell_type": "code",
   "execution_count": 23,
   "id": "4e0af40a-2ad1-4c58-8501-47fb2f206433",
   "metadata": {},
   "outputs": [
    {
     "data": {
      "text/plain": [
       "9498.500000000002"
      ]
     },
     "execution_count": 23,
     "metadata": {},
     "output_type": "execute_result"
    }
   ],
   "source": [
    "big_circle.calculate_area()"
   ]
  },
  {
   "cell_type": "code",
   "execution_count": 25,
   "id": "ca8c068d-498b-4a35-8f33-a123bdfe8d77",
   "metadata": {},
   "outputs": [],
   "source": [
    "big_rectangle = Rectangle(45 , 50)"
   ]
  },
  {
   "cell_type": "code",
   "execution_count": 26,
   "id": "26a6791a-e60f-4283-ad5d-48dac8ba1dde",
   "metadata": {},
   "outputs": [
    {
     "data": {
      "text/plain": [
       "2250"
      ]
     },
     "execution_count": 26,
     "metadata": {},
     "output_type": "execute_result"
    }
   ],
   "source": [
    "big_rectangle.calculate_area()"
   ]
  },
  {
   "cell_type": "markdown",
   "id": "cc5c620d-aeb3-4eca-b1ae-dcdc084b16f8",
   "metadata": {},
   "source": [
    "In this above abstraction example, Shape is an abstract class that defines an abstract method calculate_area(). It abstracts the concept of a shape and requires any concrete shape class (like Circle or Rectangle) to provide its own implementation of calculate_area()."
   ]
  },
  {
   "cell_type": "code",
   "execution_count": 1,
   "id": "84c45064-5abf-4d26-8796-e50dfaed9664",
   "metadata": {},
   "outputs": [],
   "source": [
    "#Encapsulation Example\n",
    "\n",
    "class person:\n",
    "    \n",
    "    def __init__(self,name,age):\n",
    "        self._name = name  #protected\n",
    "        self._age = age    #protected\n",
    "        \n",
    "    def get_name(self):\n",
    "        return self._name\n",
    "    \n",
    "    def set_age(self ,age):\n",
    "        if age > 0:\n",
    "            self._age = age\n",
    "            "
   ]
  },
  {
   "cell_type": "code",
   "execution_count": 3,
   "id": "eeba0ed5-345d-486a-812a-a31eac4d83d2",
   "metadata": {},
   "outputs": [],
   "source": [
    "person1 = person(\"ayush\" , 20)"
   ]
  },
  {
   "cell_type": "code",
   "execution_count": 4,
   "id": "184e2ed5-49db-4f74-8e5c-fb63ae835ad9",
   "metadata": {},
   "outputs": [
    {
     "name": "stdout",
     "output_type": "stream",
     "text": [
      "ayush\n"
     ]
    }
   ],
   "source": [
    "print(person1.get_name())"
   ]
  },
  {
   "cell_type": "code",
   "execution_count": 5,
   "id": "627244f3-a373-4bc1-a409-5a849143b6c9",
   "metadata": {},
   "outputs": [],
   "source": [
    "person1.set_age(22)"
   ]
  },
  {
   "cell_type": "markdown",
   "id": "5cb42ec1-02e5-4008-bd80-87f2885c4438",
   "metadata": {},
   "source": [
    "in the above  example, the Person class encapsulates the name and age attributes by marking them as protected (with a single underscore prefix) and providing getter and setter methods (get_name() and set_age()) to access and modify these attributes. Encapsulation ensures that the internal state of the object is controlled and validated through methods."
   ]
  },
  {
   "cell_type": "markdown",
   "id": "681582c8-851f-43d9-bec1-a335de31564c",
   "metadata": {},
   "source": [
    "Q3. What is abc module in python? Why is it used?\n",
    "\n",
    "ans - The abc module in Python stands for \"Abstract Base Classes.\" It provides a way to work with abstract classes and methods in Python. Abstract classes are classes that cannot be instantiated themselves but serve as a blueprint for other classes. Abstract methods are methods declared in an abstract class but do not have a concrete implementation. Subclasses of abstract classes are required to provide implementations for these abstract methods. The abc module is used to enforce abstraction and provide a structure for defining abstract classes and methods.\n",
    "\n",
    "Here are the main purposes and uses of the abc module:\n",
    "\n",
    "Defining Abstract Classes: The abc module allows you to define abstract classes by using the ABC metaclass and the @abc.abstractmethod decorator. Abstract classes cannot be instantiated, and they often serve as a template or contract for derived classes.\n",
    "\n",
    "Defining Abstract Methods: You can declare abstract methods in abstract classes using the @abc.abstractmethod decorator. These methods serve as placeholders that must be implemented by concrete subclasses.\n",
    "\n",
    "Enforcing Abstraction: The abc module enforces abstraction by raising TypeError if you attempt to create an instance of an abstract class or if a concrete subclass fails to provide an implementation for an abstract method.\n",
    "\n",
    "Providing a Clear Structure: Abstract classes defined using the abc module provide a clear structure for code, making it easier to understand and maintain. They explicitly state which methods must be implemented by subclasses."
   ]
  },
  {
   "cell_type": "markdown",
   "id": "132fd4f4-5fd7-46d3-8bd1-1cb3de216fc5",
   "metadata": {},
   "source": [
    "Q4. How can we achieve data abstraction?\n",
    "\n",
    "ANs - \n",
    "\n",
    "Data abstraction in object-oriented programming (OOP) can be achieved by using classes and encapsulation to hide the internal details of data and provide a simplified and abstract interface to the outside world. Here are the key steps to achieve data abstraction:\n",
    "\n",
    "Define a Class: Create a class that represents the data or object you want to abstract. This class should encapsulate the data and related functionality.\n",
    "\n",
    "Use Access Modifiers: Use access modifiers (such as private and protected in languages like Python) to restrict direct access to the internal data members of the class. This ensures that the data is not exposed directly.\n",
    "\n",
    "Provide Getter and Setter Methods: Create getter methods to access the data and setter methods to modify the data. These methods act as a controlled interface to interact with the data.\n",
    "\n",
    "Hide Implementation Details: Inside the class, implement the methods and logic required to work with the data. These implementation details are hidden from the outside world.\n",
    "\n",
    "Use Abstraction: Define abstract methods or interfaces if necessary to provide a high-level description of the behavior of the class without specifying the exact implementation.\n",
    "\n",
    "Instantiate Objects: Create objects (instances) of the class to work with the abstracted data. Users of the class interact with these objects rather than accessing the data directly."
   ]
  },
  {
   "cell_type": "markdown",
   "id": "56dd9953-d97a-4c48-a3b2-a26823c414fc",
   "metadata": {},
   "source": [
    "Q5. Can we create an instance of an abstract class? Explain your answer.\n",
    "\n",
    "ANs - \n",
    "No, we cannot create an instance of an abstract class in  object-oriented programming languages. Abstract classes are designed to be incomplete and serve as templates or blueprints for other classes (concrete subclasses). They typically contain one or more abstract methods that have no implementation in the abstract class itself.\n",
    "\n",
    "example \n"
   ]
  },
  {
   "cell_type": "code",
   "execution_count": 7,
   "id": "6fe81e51-38b9-4af5-a157-963ed7e05188",
   "metadata": {},
   "outputs": [
    {
     "ename": "TypeError",
     "evalue": "Can't instantiate abstract class AbstractClass with abstract method abstract_method",
     "output_type": "error",
     "traceback": [
      "\u001b[0;31m---------------------------------------------------------------------------\u001b[0m",
      "\u001b[0;31mTypeError\u001b[0m                                 Traceback (most recent call last)",
      "Cell \u001b[0;32mIn[7], line 9\u001b[0m\n\u001b[1;32m      6\u001b[0m         \u001b[38;5;28;01mpass\u001b[39;00m\n\u001b[1;32m      8\u001b[0m \u001b[38;5;66;03m# Attempting to create an instance of AbstractClass will result in a TypeError\u001b[39;00m\n\u001b[0;32m----> 9\u001b[0m obj \u001b[38;5;241m=\u001b[39m \u001b[43mAbstractClass\u001b[49m\u001b[43m(\u001b[49m\u001b[43m)\u001b[49m  \u001b[38;5;66;03m# Uncommenting this line will raise an error\u001b[39;00m\n",
      "\u001b[0;31mTypeError\u001b[0m: Can't instantiate abstract class AbstractClass with abstract method abstract_method"
     ]
    }
   ],
   "source": [
    "import abc\n",
    "\n",
    "class AbstractClass(abc.ABC):\n",
    "    @abc.abstractmethod\n",
    "    def abstract_method(self):\n",
    "        pass\n",
    "\n",
    "# Attempting to create an instance of AbstractClass will result in a TypeError\n",
    "obj = AbstractClass()  # Uncommenting this line will raise an error\n"
   ]
  },
  {
   "cell_type": "code",
   "execution_count": null,
   "id": "03ad9652-5175-4602-8bf1-fd958756c5e6",
   "metadata": {},
   "outputs": [],
   "source": []
  }
 ],
 "metadata": {
  "kernelspec": {
   "display_name": "Python 3 (ipykernel)",
   "language": "python",
   "name": "python3"
  },
  "language_info": {
   "codemirror_mode": {
    "name": "ipython",
    "version": 3
   },
   "file_extension": ".py",
   "mimetype": "text/x-python",
   "name": "python",
   "nbconvert_exporter": "python",
   "pygments_lexer": "ipython3",
   "version": "3.10.8"
  }
 },
 "nbformat": 4,
 "nbformat_minor": 5
}
